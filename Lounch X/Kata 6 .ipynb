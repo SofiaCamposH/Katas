{
 "cells": [
  {
   "cell_type": "code",
   "execution_count": 9,
   "metadata": {},
   "outputs": [
    {
     "name": "stdout",
     "output_type": "stream",
     "text": [
      "628949330\n",
      "390577533.93\n"
     ]
    }
   ],
   "source": [
    "distancia_tierra =149597870 \n",
    "distancia_jupiter =778547200 \n",
    "\n",
    "distancia_km = distancia_jupiter - distancia_tierra\n",
    "print (distancia_km)\n",
    "\n",
    "distancia_millas= distancia_km * 0.621\n",
    "print (distancia_millas)\n"
   ]
  },
  {
   "cell_type": "code",
   "execution_count": 16,
   "metadata": {},
   "outputs": [
    {
     "ename": "ValueError",
     "evalue": "invalid literal for int() with base 10: ''",
     "output_type": "error",
     "traceback": [
      "\u001b[1;31m---------------------------------------------------------------------------\u001b[0m",
      "\u001b[1;31mValueError\u001b[0m                                Traceback (most recent call last)",
      "\u001b[1;32mUntitled-1.ipynb Cell 2'\u001b[0m in \u001b[0;36m<module>\u001b[1;34m\u001b[0m\n\u001b[0;32m      <a href='vscode-notebook-cell:Untitled-1.ipynb?jupyter-notebook#ch0000001untitled?line=0'>1</a>\u001b[0m distancia_Mercurio\u001b[39m=\u001b[39m \u001b[39minput\u001b[39m(\u001b[39m'\u001b[39m\u001b[39m57900000\u001b[39m\u001b[39m'\u001b[39m)\n\u001b[0;32m      <a href='vscode-notebook-cell:Untitled-1.ipynb?jupyter-notebook#ch0000001untitled?line=1'>2</a>\u001b[0m distancia_venus\u001b[39m=\u001b[39m \u001b[39minput\u001b[39m(\u001b[39m'\u001b[39m\u001b[39m108200000\u001b[39m\u001b[39m'\u001b[39m)\n\u001b[1;32m----> <a href='vscode-notebook-cell:Untitled-1.ipynb?jupyter-notebook#ch0000001untitled?line=3'>4</a>\u001b[0m distancia_Mercurio \u001b[39m=\u001b[39m\u001b[39mint\u001b[39;49m(distancia_Mercurio)\n\u001b[0;32m      <a href='vscode-notebook-cell:Untitled-1.ipynb?jupyter-notebook#ch0000001untitled?line=4'>5</a>\u001b[0m distancia_venus\u001b[39m=\u001b[39m\u001b[39mint\u001b[39m(distancia_venus)\n\u001b[0;32m      <a href='vscode-notebook-cell:Untitled-1.ipynb?jupyter-notebook#ch0000001untitled?line=6'>7</a>\u001b[0m distancia_kms\u001b[39m=\u001b[39mdistancia_venus\u001b[39m-\u001b[39mdistancia_Mercurio \n",
      "\u001b[1;31mValueError\u001b[0m: invalid literal for int() with base 10: ''"
     ]
    }
   ],
   "source": [
    "distancia_Mercurio= input('57900000')\n",
    "distancia_venus= input('108200000')\n",
    "\n",
    "distancia_Mercurio =int(distancia_Mercurio)\n",
    "distancia_venus=int(distancia_venus)\n",
    "\n",
    "distancia_kms=distancia_venus-distancia_Mercurio \n",
    "print(distancia_kms)\n",
    "\n",
    "distancia_millas= distancia_kms * 0.621\n",
    "print(abs(distancia_millas))"
   ]
  }
 ],
 "metadata": {
  "interpreter": {
   "hash": "cb4c9cba798e13b0503c1a623da6dc8dd34edcc8ddf4e2bfff3420e9d52fd715"
  },
  "kernelspec": {
   "display_name": "Python 3.10.2 64-bit",
   "language": "python",
   "name": "python3"
  },
  "language_info": {
   "codemirror_mode": {
    "name": "ipython",
    "version": 3
   },
   "file_extension": ".py",
   "mimetype": "text/x-python",
   "name": "python",
   "nbconvert_exporter": "python",
   "pygments_lexer": "ipython3",
   "version": "3.10.2"
  },
  "orig_nbformat": 4
 },
 "nbformat": 4,
 "nbformat_minor": 2
}
