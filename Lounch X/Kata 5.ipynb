{
 "cells": [
  {
   "cell_type": "code",
   "execution_count": 3,
   "metadata": {},
   "outputs": [
    {
     "name": "stdout",
     "output_type": "stream",
     "text": [
      "-628949330\n",
      "-390577533.93\n"
     ]
    }
   ],
   "source": [
    "Tierra= 149597870\n",
    "Jupyter= 778547200\n",
    "\n",
    "km= Tierra - Jupyter \n",
    "print(km)\n",
    "\n",
    "Mi= km * 0.621\n",
    "print (Mi)\n",
    "\n"
   ]
  }
 ],
 "metadata": {
  "interpreter": {
   "hash": "cb4c9cba798e13b0503c1a623da6dc8dd34edcc8ddf4e2bfff3420e9d52fd715"
  },
  "kernelspec": {
   "display_name": "Python 3.10.2 64-bit",
   "language": "python",
   "name": "python3"
  },
  "language_info": {
   "codemirror_mode": {
    "name": "ipython",
    "version": 3
   },
   "file_extension": ".py",
   "mimetype": "text/x-python",
   "name": "python",
   "nbconvert_exporter": "python",
   "pygments_lexer": "ipython3",
   "version": "3.10.2"
  },
  "orig_nbformat": 4
 },
 "nbformat": 4,
 "nbformat_minor": 2
}
