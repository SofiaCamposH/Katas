{
 "cells": [
  {
   "cell_type": "code",
   "execution_count": 31,
   "metadata": {},
   "outputs": [
    {
     "name": "stdout",
     "output_type": "stream",
     "text": [
      "¡Peligroso asteroide va rumbo a la Tierra!\n"
     ]
    }
   ],
   "source": [
    "# Añadir el código necesario para crear una variable que guarde la velocidad del asteroide.\n",
    "asteroide = 49 \n",
    "# Escribe una expresión de prueba para calcular si necesita una advertencia.\n",
    "if asteroide  > 25:\n",
    "    print ('¡Peligroso asteroide va rumbo a la Tierra!')\n",
    "# Agregue las instrucciones que se ejecutarán si la expresión de prueba es true o false.    \n",
    "else: \n",
    "    print('¡Estamos fuera de peligro!')"
   ]
  },
  {
   "cell_type": "code",
   "execution_count": null,
   "metadata": {},
   "outputs": [],
   "source": []
  },
  {
   "cell_type": "code",
   "execution_count": 22,
   "metadata": {},
   "outputs": [
    {
     "name": "stdout",
     "output_type": "stream",
     "text": [
      " ¡No podemos ver el rayo de luz!\n"
     ]
    }
   ],
   "source": [
    "# Agrega el código para crear una variable para un asteroide que viaja a 19 km/s\n",
    "asteroide = 19 \n",
    "# Escribe varias expresiones de prueba para determinar si puedes ver el rayo de luz desde la tierra \n",
    "if asteroide > 20:\n",
    "    print(' ¡Podemos ver un rayo de luz!')\n",
    "elif asteroide == 20: \n",
    "    print(' ¡Podemos ver un rayo de luz!')\n",
    "else:\n",
    "        print (' ¡No podemos ver el rayo de luz!')\n"
   ]
  },
  {
   "cell_type": "code",
   "execution_count": 30,
   "metadata": {},
   "outputs": [
    {
     "name": "stdout",
     "output_type": "stream",
     "text": [
      "Podemos ver un rayo de luz!\n"
     ]
    }
   ],
   "source": [
    "\n",
    "velocidad_asteroide= 25\n",
    "tamano_asteroide= 40 \n",
    "if velocidad_asteroide  > 25 and tamano_asteroide  > 25:\n",
    "    print('¡Peligroso asteroide va rumbo a la Tierra!')\n",
    "elif velocidad_asteroide >= 20: \n",
    "     print('Podemos ver un rayo de luz!')\n",
    "elif tamano_asteroide < 25: \n",
    "     print('No podemos ver un rayo de luz')\n",
    "else: \n",
    "     print('Podemos ver un rayo de luz')\n",
    "\n",
    "   \n",
    " "
   ]
  },
  {
   "cell_type": "code",
   "execution_count": 29,
   "metadata": {},
   "outputs": [
    {
     "name": "stdout",
     "output_type": "stream",
     "text": [
      "No podemos ver un rayo de luz \n"
     ]
    }
   ],
   "source": [
    "velocidad_asteroide= 10\n",
    "tamano_asteroide= 15\n",
    "if velocidad_asteroide  > 25 and tamano_asteroide  > 25:\n",
    "    print('¡Peligroso asteroide va rumbo a la Tierra !')\n",
    "elif velocidad_asteroide >= 20: \n",
    "     print('Podemos ver un rayo de luz!')\n",
    "elif tamano_asteroide < 25: \n",
    "     print('No podemos ver un rayo de luz ')\n",
    "else: \n",
    "     print('No podemos ver un rayo de luz ')"
   ]
  },
  {
   "cell_type": "code",
   "execution_count": 25,
   "metadata": {},
   "outputs": [
    {
     "name": "stdout",
     "output_type": "stream",
     "text": [
      "¡Alerta, Un asteroide muy peligroso viene hacia la Tierra!\n"
     ]
    }
   ],
   "source": [
    "velocidad_asteroide= 45\n",
    "tamano_asteroide= 65\n",
    "if velocidad_asteroide  > 25 and tamano_asteroide  > 25:\n",
    "    print('¡Alerta, Un asteroide muy peligroso viene hacia la Tierra!')\n",
    "elif velocidad_asteroide >= 20: \n",
    "     print('Look up! ¡Hay una luz mágica en el cielo!')\n",
    "elif tamano_asteroide < 25: \n",
    "     print('Nada que ver aquí :)')\n",
    "else: \n",
    "     print('Nada que ver aquí :)')"
   ]
  }
 ],
 "metadata": {
  "interpreter": {
   "hash": "cb4c9cba798e13b0503c1a623da6dc8dd34edcc8ddf4e2bfff3420e9d52fd715"
  },
  "kernelspec": {
   "display_name": "Python 3.10.2 64-bit",
   "language": "python",
   "name": "python3"
  },
  "language_info": {
   "codemirror_mode": {
    "name": "ipython",
    "version": 3
   },
   "file_extension": ".py",
   "mimetype": "text/x-python",
   "name": "python",
   "nbconvert_exporter": "python",
   "pygments_lexer": "ipython3",
   "version": "3.10.2"
  },
  "orig_nbformat": 4
 },
 "nbformat": 4,
 "nbformat_minor": 2
}
